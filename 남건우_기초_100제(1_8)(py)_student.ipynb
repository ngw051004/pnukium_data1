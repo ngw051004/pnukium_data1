{
  "nbformat": 4,
  "nbformat_minor": 0,
  "metadata": {
    "colab": {
      "provenance": []
    },
    "kernelspec": {
      "name": "python3",
      "display_name": "Python 3"
    }
  },
  "cells": [
    {
      "cell_type": "markdown",
      "metadata": {
        "id": "v4sFDDlCeYCA"
      },
      "source": [
        "# 6001 : [기초-출력] 출력하기01(설명)(py)"
      ]
    },
    {
      "cell_type": "code",
      "metadata": {
        "id": "Qkjq0vR8eWsA",
        "colab": {
          "base_uri": "https://localhost:8080/"
        },
        "outputId": "4b5cfacf-7f22-43a1-f6ff-132e9b996177"
      },
      "source": [
        "print('hello')"
      ],
      "execution_count": null,
      "outputs": [
        {
          "output_type": "stream",
          "name": "stdout",
          "text": [
            "hello\n"
          ]
        }
      ]
    },
    {
      "cell_type": "markdown",
      "metadata": {
        "id": "tkcOJckBfLx2"
      },
      "source": [
        "# 6002 : [기초-출력] 출력하기02(설명)(py)"
      ]
    },
    {
      "cell_type": "code",
      "metadata": {
        "id": "bbbe3g44fUBa",
        "colab": {
          "base_uri": "https://localhost:8080/"
        },
        "outputId": "b9ab0e43-346d-4e82-ac4e-44b491a44695"
      },
      "source": [
        "print('Hello World')\n"
      ],
      "execution_count": null,
      "outputs": [
        {
          "output_type": "stream",
          "name": "stdout",
          "text": [
            "Hello World\n"
          ]
        }
      ]
    },
    {
      "cell_type": "markdown",
      "metadata": {
        "id": "fLYo7wwSfX0X"
      },
      "source": [
        "# 6003 : [기초-출력] 출력하기03(설명)(py)"
      ]
    },
    {
      "cell_type": "code",
      "metadata": {
        "id": "ZqlEUPoSfa2Q",
        "colab": {
          "base_uri": "https://localhost:8080/"
        },
        "outputId": "f8e1d145-0b7a-4390-da0b-e10e9b6eca5c"
      },
      "source": [
        "print('Hello')\n",
        "print('world')"
      ],
      "execution_count": null,
      "outputs": [
        {
          "output_type": "stream",
          "name": "stdout",
          "text": [
            "Hello\n",
            "world\n"
          ]
        }
      ]
    },
    {
      "cell_type": "markdown",
      "metadata": {
        "id": "6nRMalqYfd7r"
      },
      "source": [
        "# 6004 : [기초-출력] 출력하기04(설명)(py)"
      ]
    },
    {
      "cell_type": "code",
      "metadata": {
        "id": "c1p3NzyofjkR",
        "colab": {
          "base_uri": "https://localhost:8080/"
        },
        "outputId": "ee081bba-e788-4488-e63e-360c912adfec"
      },
      "source": [
        "print('Hello')"
      ],
      "execution_count": null,
      "outputs": [
        {
          "output_type": "stream",
          "name": "stdout",
          "text": [
            "Hello\n"
          ]
        }
      ]
    },
    {
      "cell_type": "markdown",
      "metadata": {
        "id": "7GuAFt2rfmfV"
      },
      "source": [
        "# 6005 : [기초-출력] 출력하기05(설명)(py)"
      ]
    },
    {
      "cell_type": "code",
      "metadata": {
        "id": "E1NRFlGHfsVo",
        "colab": {
          "base_uri": "https://localhost:8080/"
        },
        "outputId": "78c69de0-9d23-4d85-b199-3f68b9587111"
      },
      "source": [
        "print('\"Hello World \"')\n"
      ],
      "execution_count": null,
      "outputs": [
        {
          "output_type": "stream",
          "name": "stdout",
          "text": [
            "\"Hello World \"\n"
          ]
        }
      ]
    },
    {
      "cell_type": "markdown",
      "metadata": {
        "id": "h2c_JjORfvX5"
      },
      "source": [
        "# 6006 : [기초-출력] 출력하기06(py)"
      ]
    },
    {
      "cell_type": "code",
      "metadata": {
        "id": "GmGRxgZLfzcU",
        "colab": {
          "base_uri": "https://localhost:8080/"
        },
        "outputId": "ea915e4d-ca9b-4d91-8f4a-65472e49f28f"
      },
      "source": [
        "print(\"!@#$%^&*()\")"
      ],
      "execution_count": null,
      "outputs": [
        {
          "output_type": "stream",
          "name": "stdout",
          "text": [
            "!@#$%^&*()\n"
          ]
        }
      ]
    },
    {
      "cell_type": "markdown",
      "metadata": {
        "id": "__YvsVxbf4aT"
      },
      "source": [
        "# 6007 : [기초-출력] 출력하기07(py)"
      ]
    },
    {
      "cell_type": "code",
      "metadata": {
        "id": "I0Px58Rrf6AK",
        "colab": {
          "base_uri": "https://localhost:8080/"
        },
        "outputId": "02d98110-ba01-499e-f10a-c2ab7d4a2c53"
      },
      "source": [
        "print(\"C:#Download\\'hello'.py\")"
      ],
      "execution_count": null,
      "outputs": [
        {
          "output_type": "stream",
          "name": "stdout",
          "text": [
            "C:#Download'hello'.py\n"
          ]
        }
      ]
    },
    {
      "cell_type": "markdown",
      "metadata": {
        "id": "WmTwy_AKf9Dj"
      },
      "source": [
        "# 6008 : [기초-출력] 출력하기08(py)"
      ]
    },
    {
      "cell_type": "code",
      "metadata": {
        "id": "1reBjRnNf_7m",
        "colab": {
          "base_uri": "https://localhost:8080/"
        },
        "outputId": "303bf402-fa66-43bf-c00e-1e75ebd90cb3"
      },
      "source": [
        "print('print(\"Hello\\n\\world\")')\n"
      ],
      "execution_count": null,
      "outputs": [
        {
          "output_type": "stream",
          "name": "stdout",
          "text": [
            "print(\"Hello\n",
            "\\world\")\n"
          ]
        }
      ]
    }
  ]
}