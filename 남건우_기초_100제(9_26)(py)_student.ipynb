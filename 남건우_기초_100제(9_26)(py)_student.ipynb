{
  "nbformat": 4,
  "nbformat_minor": 0,
  "metadata": {
    "colab": {
      "provenance": []
    },
    "kernelspec": {
      "name": "python3",
      "display_name": "Python 3"
    }
  },
  "cells": [
    {
      "cell_type": "markdown",
      "metadata": {
        "id": "lF1bOoQFuduK"
      },
      "source": [
        "# 6009 : [기초-입출력] 문자 1개 입력받아 그대로 출력하기(설명)(py)"
      ]
    },
    {
      "cell_type": "code",
      "metadata": {
        "colab": {
          "base_uri": "https://localhost:8080/"
        },
        "id": "cT401Km4utBC",
        "outputId": "b04ca2da-81b5-46cb-90d9-b51bd1476d63"
      },
      "source": [
        "print('a')\n",
        "print('a')"
      ],
      "execution_count": null,
      "outputs": [
        {
          "output_type": "stream",
          "name": "stdout",
          "text": [
            "a\n",
            "a\n"
          ]
        }
      ]
    },
    {
      "cell_type": "markdown",
      "metadata": {
        "id": "t5bmFHCMmpAR"
      },
      "source": [
        "# 6010 : [기초-입출력] 정수 1개 입력받아 int로 변환하여 출력하기(설명)(py)"
      ]
    },
    {
      "cell_type": "code",
      "metadata": {
        "id": "v23OJ_uQmfpa",
        "colab": {
          "base_uri": "https://localhost:8080/",
          "height": 54
        },
        "outputId": "79804959-5169-4f37-e6db-abedbcf3043c"
      },
      "source": [
        "input()\n"
      ],
      "execution_count": null,
      "outputs": [
        {
          "name": "stdout",
          "output_type": "stream",
          "text": [
            "10\n"
          ]
        },
        {
          "output_type": "execute_result",
          "data": {
            "text/plain": [
              "'10'"
            ],
            "application/vnd.google.colaboratory.intrinsic+json": {
              "type": "string"
            }
          },
          "metadata": {},
          "execution_count": 4
        }
      ]
    },
    {
      "cell_type": "markdown",
      "metadata": {
        "id": "r4b2LiREm8UP"
      },
      "source": [
        "# 6011 : [기초-입출력] 실수 1개 입력받아 변환하여 출력하기(설명)(py)"
      ]
    },
    {
      "cell_type": "markdown",
      "source": [],
      "metadata": {
        "id": "HOOEWEj1lOi4"
      }
    },
    {
      "cell_type": "code",
      "metadata": {
        "id": "iEWYiib6nBdC",
        "colab": {
          "base_uri": "https://localhost:8080/"
        },
        "outputId": "9bcf57d6-e1fc-4e50-ebdd-c22fbc53316d"
      },
      "source": [
        "float(20\n",
        "      )"
      ],
      "execution_count": null,
      "outputs": [
        {
          "output_type": "execute_result",
          "data": {
            "text/plain": [
              "20.0"
            ]
          },
          "metadata": {},
          "execution_count": 8
        }
      ]
    },
    {
      "cell_type": "markdown",
      "metadata": {
        "id": "S96P8demnSMA"
      },
      "source": [
        "# 6012 : [기초-입출력] 정수 2개 입력받아 그대로 출력하기1(설명)(py)"
      ]
    },
    {
      "cell_type": "code",
      "metadata": {
        "id": "mXDHp0N6nXZR",
        "colab": {
          "base_uri": "https://localhost:8080/",
          "height": 54
        },
        "outputId": "22023be2-3544-430d-83a9-9f24af2bab8f"
      },
      "source": [
        "input(5+8\n",
        "      )"
      ],
      "execution_count": null,
      "outputs": [
        {
          "name": "stdout",
          "output_type": "stream",
          "text": [
            "1312\n"
          ]
        },
        {
          "output_type": "execute_result",
          "data": {
            "text/plain": [
              "'12'"
            ],
            "application/vnd.google.colaboratory.intrinsic+json": {
              "type": "string"
            }
          },
          "metadata": {},
          "execution_count": 9
        }
      ]
    },
    {
      "cell_type": "markdown",
      "metadata": {
        "id": "U02tSzPVneag"
      },
      "source": [
        "# 6013 : [기초-입출력] 문자 2개 입력받아 순서 바꿔 출력하기1(py)"
      ]
    },
    {
      "cell_type": "code",
      "metadata": {
        "id": "zUNShlyUnjli",
        "colab": {
          "base_uri": "https://localhost:8080/"
        },
        "outputId": "3b3c104d-2be3-4dad-bd48-4aacfabde48d"
      },
      "source": [
        "a=input('문자 입력 해라')\n",
        "b=input('문자 입력 해라')\n",
        "print('a')\n",
        "print('b')"
      ],
      "execution_count": null,
      "outputs": [
        {
          "output_type": "stream",
          "name": "stdout",
          "text": [
            "문자 입력 해라48\n",
            "문자 입력 해라67\n",
            "a\n",
            "b\n"
          ]
        }
      ]
    },
    {
      "cell_type": "markdown",
      "metadata": {
        "id": "jyHZ8rsSnp2I"
      },
      "source": [
        "# 6014 : [기초-입출력] 실수 1개 입력받아 3번 출력하기(py)"
      ]
    },
    {
      "cell_type": "code",
      "metadata": {
        "id": "TQpHdxPmnuA0",
        "colab": {
          "base_uri": "https://localhost:8080/"
        },
        "outputId": "440f5d65-067d-4f40-823c-a6fee41de937"
      },
      "source": [
        "a=float(input('입력해라:'))\n",
        "b=float(input('입력해라:'))\n",
        "c=float(input('입력해라:'))\n",
        "print(a)\n",
        "print(b)\n",
        "print(c)"
      ],
      "execution_count": null,
      "outputs": [
        {
          "output_type": "stream",
          "name": "stdout",
          "text": [
            "입력해라:48\n",
            "입력해라:45\n",
            "입력해라:42\n",
            "48.0\n",
            "45.0\n",
            "42.0\n"
          ]
        }
      ]
    },
    {
      "cell_type": "markdown",
      "metadata": {
        "id": "EDyqb1l9oWug"
      },
      "source": [
        "# 6015 : [기초-입출력] 정수 2개 입력받아 그대로 출력하기2(설명)(py)"
      ]
    },
    {
      "cell_type": "code",
      "metadata": {
        "id": "r4it7ZihobDw",
        "colab": {
          "base_uri": "https://localhost:8080/"
        },
        "outputId": "3819669f-e80e-49a7-fe7e-a7ea2146d3ab"
      },
      "source": [
        "a=int(input('입력하세요:'))\n",
        "b=int(input('입력하세요:'))\n",
        "print(a)\n",
        "print(b)"
      ],
      "execution_count": null,
      "outputs": [
        {
          "output_type": "stream",
          "name": "stdout",
          "text": [
            "입력하세요:94\n",
            "입력하세요:82\n",
            "94\n",
            "82\n"
          ]
        }
      ]
    },
    {
      "cell_type": "markdown",
      "metadata": {
        "id": "b4n0SilcogRa"
      },
      "source": [
        "# 6016 : [기초-입출력] 문자 2개 입력받아 순서 바꿔 출력하기2(설명)(py)"
      ]
    },
    {
      "cell_type": "code",
      "metadata": {
        "id": "lDNooofnOG0H",
        "colab": {
          "base_uri": "https://localhost:8080/"
        },
        "outputId": "2b2ca45a-caaf-4ae8-b74b-dc4232c715a8"
      },
      "source": [
        "a=input('입력해라:')\n",
        "b=input('입력해라:')\n",
        "print(b)\n",
        "print(a)"
      ],
      "execution_count": null,
      "outputs": [
        {
          "output_type": "stream",
          "name": "stdout",
          "text": [
            "입력해라:85\n",
            "입력해라:45\n",
            "45\n",
            "85\n"
          ]
        }
      ]
    },
    {
      "cell_type": "markdown",
      "metadata": {
        "id": "-u-AanDAOOvH"
      },
      "source": [
        "# 6017 : [기초-입출력] 문장 1개 입력받아 3번 출력하기(설명)(py)"
      ]
    },
    {
      "cell_type": "code",
      "metadata": {
        "id": "9NkKXZNDOShe",
        "colab": {
          "base_uri": "https://localhost:8080/"
        },
        "outputId": "e8b4305f-aa42-4587-f2e0-26048610e014"
      },
      "source": [
        "a=input('입력하세요:')\n",
        "print(a)\n",
        "print(a)\n",
        "print(a)"
      ],
      "execution_count": null,
      "outputs": [
        {
          "output_type": "stream",
          "name": "stdout",
          "text": [
            "입력하세요:5\n",
            "5\n",
            "5\n",
            "5\n"
          ]
        }
      ]
    },
    {
      "cell_type": "markdown",
      "metadata": {
        "id": "H9xgj_kwOdoA"
      },
      "source": [
        "# 6018 : [기초-입출력] 시간 입력받아 그대로 출력하기(설명)(py)"
      ]
    },
    {
      "cell_type": "code",
      "metadata": {
        "id": "AH4pjiguOig9",
        "colab": {
          "base_uri": "https://localhost:8080/"
        },
        "outputId": "b3d663d8-2b4d-457d-d971-02515c824eca"
      },
      "source": [
        "x=input('시간을 입력하세요:')\n"
      ],
      "execution_count": null,
      "outputs": [
        {
          "name": "stdout",
          "output_type": "stream",
          "text": [
            "시간을 입력하세요:12\n"
          ]
        }
      ]
    },
    {
      "cell_type": "markdown",
      "metadata": {
        "id": "JYS-3BetOp-P"
      },
      "source": [
        "# 6019 : [기초-입출력] 연월일 입력받아 순서 바꿔 출력하기(py)"
      ]
    },
    {
      "cell_type": "code",
      "metadata": {
        "id": "bZwa_6C-OxOb",
        "colab": {
          "base_uri": "https://localhost:8080/"
        },
        "outputId": "c6f05252-44a8-4cc3-e669-25212ed762c9"
      },
      "source": [
        "y,s,d = map(int,input().split('.'))\n",
        "print(d,s,y,sep='-')\n"
      ],
      "execution_count": null,
      "outputs": [
        {
          "output_type": "stream",
          "name": "stdout",
          "text": [
            "2020.3.4\n",
            "4-3-2020\n"
          ]
        }
      ]
    },
    {
      "cell_type": "markdown",
      "metadata": {
        "id": "iow67t1RO9bQ"
      },
      "source": [
        "# 6020 : [기초-입출력] 주민번호 입력받아 형태 바꿔 출력하기(py)"
      ]
    },
    {
      "cell_type": "code",
      "metadata": {
        "id": "og2alovePAbY",
        "colab": {
          "base_uri": "https://localhost:8080/"
        },
        "outputId": "532d10f7-c0bb-431d-caa9-6fc03fbce9f6"
      },
      "source": [
        "a,b = input().split('-')\n",
        "print(a+b)"
      ],
      "execution_count": null,
      "outputs": [
        {
          "output_type": "stream",
          "name": "stdout",
          "text": [
            "64654654654-545454\n",
            "64654654654545454\n"
          ]
        }
      ]
    },
    {
      "cell_type": "markdown",
      "metadata": {
        "id": "31aUaTxpPHYk"
      },
      "source": [
        "# 6021 : [기초-입출력] 단어 1개 입력받아 나누어 출력하기(설명)(py)"
      ]
    },
    {
      "cell_type": "code",
      "metadata": {
        "id": "MOJzcNqBPNP3",
        "colab": {
          "base_uri": "https://localhost:8080/"
        },
        "outputId": "9d36a088-e43d-4d89-f16e-773176161c3e"
      },
      "source": [
        "s = input()\n",
        "for i in s:\n",
        "  print(i)\n"
      ],
      "execution_count": null,
      "outputs": [
        {
          "output_type": "stream",
          "name": "stdout",
          "text": [
            "hello\n",
            "h\n",
            "e\n",
            "l\n",
            "l\n",
            "o\n"
          ]
        }
      ]
    },
    {
      "cell_type": "markdown",
      "metadata": {
        "id": "C8G5yO9xPT2G"
      },
      "source": [
        "# 6022 : [기초-입출력] 연월일 입력받아 나누어 출력하기(설명)(py)"
      ]
    },
    {
      "cell_type": "code",
      "metadata": {
        "id": "Q4IymnKzPnnO"
      },
      "source": [],
      "execution_count": null,
      "outputs": []
    },
    {
      "cell_type": "markdown",
      "metadata": {
        "id": "fxYpTjerPxKh"
      },
      "source": [
        "# 6023 : [기초-입출력] 시분초 입력받아 분만 출력하기(py)"
      ]
    },
    {
      "cell_type": "code",
      "metadata": {
        "id": "opg9Yu3yPyqd"
      },
      "source": [],
      "execution_count": null,
      "outputs": []
    },
    {
      "cell_type": "markdown",
      "metadata": {
        "id": "jU_1Dhl4P9JL"
      },
      "source": [
        "# 6024 : [기초-입출력] 단어 2개 입력받아 이어 붙이기(설명)(py)"
      ]
    },
    {
      "cell_type": "code",
      "metadata": {
        "id": "uLnCyb1pP-nF"
      },
      "source": [
        "\n"
      ],
      "execution_count": null,
      "outputs": []
    },
    {
      "cell_type": "markdown",
      "metadata": {
        "id": "oPC81MQEQEZT"
      },
      "source": [
        "# 6025 : [기초-값변환] 정수 2개 입력받아 합 계산하기(설명)(py)"
      ]
    },
    {
      "cell_type": "code",
      "metadata": {
        "id": "9avPZNCNQI1b"
      },
      "source": [],
      "execution_count": null,
      "outputs": []
    },
    {
      "cell_type": "markdown",
      "metadata": {
        "id": "VFpax3TaQU3K"
      },
      "source": [
        "# 6026 : [기초-값변환] 실수 2개 입력받아 합 계산하기(설명)(py)"
      ]
    },
    {
      "cell_type": "code",
      "metadata": {
        "id": "6_1MOyWzQb-t"
      },
      "source": [],
      "execution_count": null,
      "outputs": []
    }
  ]
}